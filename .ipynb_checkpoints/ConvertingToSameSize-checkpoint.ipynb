{
 "cells": [
  {
   "cell_type": "code",
   "execution_count": 1,
   "metadata": {},
   "outputs": [],
   "source": [
    "import glob\n",
    "from PIL import Image"
   ]
  },
  {
   "cell_type": "code",
   "execution_count": null,
   "metadata": {},
   "outputs": [],
   "source": []
  },
  {
   "cell_type": "code",
   "execution_count": null,
   "metadata": {},
   "outputs": [],
   "source": []
  },
  {
   "cell_type": "code",
   "execution_count": 3,
   "metadata": {},
   "outputs": [
    {
     "name": "stdout",
     "output_type": "stream",
     "text": [
      "Images Resized 690/690\r"
     ]
    }
   ],
   "source": [
    "\n",
    "\n",
    "#Retriving all image names and it's path with .jpg extension from given directory path in imageNames list\n",
    "imageNames = glob.glob(r\"E:\\Projects\\MaskNoMask\\data\\with_mask\\*.jpg\")\n",
    "\n",
    "#Defining width and height of image\n",
    "new_width  = 64\n",
    "new_height = 64\n",
    "\n",
    "#Count variable to show the progress of image resized\n",
    "count=0\n",
    "\n",
    "#Creating for loop to take one image from imageNames list and resize\n",
    "for i in imageNames:\n",
    "    #opening image for editing\n",
    "    img = Image.open(i)\n",
    "    #using resize() to resize image\n",
    "    img = img.resize((new_width, new_height), Image.ANTIALIAS)\n",
    "    #save() to save image at given path and count is the name of image eg. first image name will be 0.jpg\n",
    "    img.save(r\"E:\\Projects\\MaskNoMask\\data\\resized\\with_mask\\\\\"+str(count)+\".jpg\") \n",
    "    #incrementing count value\n",
    "    count+=1\n",
    "    #showing image resize progress\n",
    "    print(\"Images Resized \" +str(count)+\"/\"+str(len(imageNames)),end='\\r')"
   ]
  },
  {
   "cell_type": "code",
   "execution_count": 17,
   "metadata": {},
   "outputs": [],
   "source": []
  },
  {
   "cell_type": "code",
   "execution_count": null,
   "metadata": {},
   "outputs": [],
   "source": []
  }
 ],
 "metadata": {
  "kernelspec": {
   "display_name": "Python 3.7 (tensorflow)",
   "language": "python",
   "name": "tensorflow"
  },
  "language_info": {
   "codemirror_mode": {
    "name": "ipython",
    "version": 3
   },
   "file_extension": ".py",
   "mimetype": "text/x-python",
   "name": "python",
   "nbconvert_exporter": "python",
   "pygments_lexer": "ipython3",
   "version": "3.7.9"
  }
 },
 "nbformat": 4,
 "nbformat_minor": 4
}
