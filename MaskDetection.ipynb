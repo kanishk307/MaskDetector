{
 "cells": [
  {
   "cell_type": "code",
   "execution_count": 11,
   "metadata": {},
   "outputs": [],
   "source": [
    "from pathlib import Path\n",
    "import numpy as np\n",
    "import joblib\n",
    "import tensorflow as tf\n",
    "from tensorflow.keras.preprocessing import image\n",
    "from tensorflow.keras.applications import vgg16"
   ]
  },
  {
   "cell_type": "code",
   "execution_count": 12,
   "metadata": {},
   "outputs": [],
   "source": [
    "with_mask_path = Path(\"data\")/\"resized\"/\"with_mask\"\n",
    "without_mask_path = Path(\"data\")/\"resized\"/\"without_mask\""
   ]
  },
  {
   "cell_type": "code",
   "execution_count": 13,
   "metadata": {},
   "outputs": [],
   "source": [
    "images=[]\n",
    "labels=[]"
   ]
  },
  {
   "cell_type": "code",
   "execution_count": 14,
   "metadata": {},
   "outputs": [],
   "source": [
    "#Loading without mask images\n",
    "for img in without_mask_path.glob(\"*.jpg\"):\n",
    "    #Load img into disk\n",
    "    img = image.load_img(img)\n",
    "    \n",
    "    #Convert img to np array\n",
    "    image_array = image.img_to_array(img)\n",
    "    \n",
    "    #Add images to the list of images\n",
    "    images.append(image_array)\n",
    "    \n",
    "    #Add labels\n",
    "    labels.append(0)\n",
    "\n"
   ]
  },
  {
   "cell_type": "code",
   "execution_count": 15,
   "metadata": {},
   "outputs": [],
   "source": [
    "#Loading with mask images\n",
    "for img in with_mask_path.glob(\"*.jpg\"):\n",
    "    #Loadimg into disk\n",
    "    img = image.load_img(img)\n",
    "    \n",
    "    #Convert img to np array\n",
    "    image_array = image.img_to_array(img)\n",
    "    \n",
    "    #Add images to the list of images\n",
    "    images.append(image_array)\n",
    "    \n",
    "    #Add labels\n",
    "    labels.append(1)"
   ]
  },
  {
   "cell_type": "code",
   "execution_count": 16,
   "metadata": {},
   "outputs": [],
   "source": [
    "#TrainImages - Coverting to np array\n",
    "x_train = np.array(images)\n"
   ]
  },
  {
   "cell_type": "code",
   "execution_count": 17,
   "metadata": {},
   "outputs": [],
   "source": [
    "#TrainLabels\n",
    "y_train = np.array(labels)"
   ]
  },
  {
   "cell_type": "code",
   "execution_count": 18,
   "metadata": {},
   "outputs": [],
   "source": [
    "# x_train\n",
    "#Normalizing data to 0 to 1 range\n",
    "x_train = vgg16.preprocess_input(x_train)"
   ]
  },
  {
   "cell_type": "code",
   "execution_count": 21,
   "metadata": {},
   "outputs": [],
   "source": [
    "#Load a pre-trained neural network for feature extraction. we create a VGG16 object\n",
    "pretrained_nn = vgg16.VGG16(weights = \"imagenet\",include_top=False,input_shape = (64,64,3))"
   ]
  },
  {
   "cell_type": "code",
   "execution_count": 22,
   "metadata": {},
   "outputs": [],
   "source": [
    "#Extracting features for each image (in one pass)\n",
    "features_x = pretrained_nn.predict(x_train)"
   ]
  },
  {
   "cell_type": "code",
   "execution_count": 23,
   "metadata": {},
   "outputs": [
    {
     "data": {
      "text/plain": [
       "['y_train.dat']"
      ]
     },
     "execution_count": 23,
     "metadata": {},
     "output_type": "execute_result"
    }
   ],
   "source": [
    "#save the extracted features to a file\n",
    "joblib.dump(features_x,\"x_train.dat\")\n",
    "\n",
    "#save matching array of expected values to a file\n",
    "joblib.dump(y_train,\"y_train.dat\")"
   ]
  },
  {
   "cell_type": "code",
   "execution_count": null,
   "metadata": {},
   "outputs": [],
   "source": [
    "x"
   ]
  }
 ],
 "metadata": {
  "kernelspec": {
   "display_name": "Python 3.7 (tensorflow)",
   "language": "python",
   "name": "tensorflow"
  },
  "language_info": {
   "codemirror_mode": {
    "name": "ipython",
    "version": 3
   },
   "file_extension": ".py",
   "mimetype": "text/x-python",
   "name": "python",
   "nbconvert_exporter": "python",
   "pygments_lexer": "ipython3",
   "version": "3.7.9"
  }
 },
 "nbformat": 4,
 "nbformat_minor": 4
}
