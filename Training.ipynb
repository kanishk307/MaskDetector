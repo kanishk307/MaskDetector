{
 "cells": [
  {
   "cell_type": "code",
   "execution_count": 3,
   "metadata": {},
   "outputs": [],
   "source": [
    "from tensorflow.keras.models import Sequential\n",
    "from tensorflow.keras.layers import Dense, Dropout, Flatten\n",
    "from pathlib import Path\n",
    "import joblib\n",
    "import tensorflow as tf"
   ]
  },
  {
   "cell_type": "code",
   "execution_count": 4,
   "metadata": {},
   "outputs": [],
   "source": [
    "physical_devices = tf.config.list_physical_devices('GPU') \n",
    "tf.config.experimental.set_memory_growth(physical_devices[0], True)"
   ]
  },
  {
   "cell_type": "code",
   "execution_count": 5,
   "metadata": {},
   "outputs": [],
   "source": [
    "#Load Dataset\n",
    "x_train = joblib.load(\"x_train.dat\")\n",
    "y_train = joblib.load(\"y_train.dat\")"
   ]
  },
  {
   "cell_type": "code",
   "execution_count": 6,
   "metadata": {},
   "outputs": [],
   "source": [
    "#Creating a model and adding layers\n",
    "model = Sequential()\n"
   ]
  },
  {
   "cell_type": "code",
   "execution_count": 7,
   "metadata": {},
   "outputs": [
    {
     "data": {
      "text/plain": [
       "(1376, 2, 2, 512)"
      ]
     },
     "execution_count": 7,
     "metadata": {},
     "output_type": "execute_result"
    }
   ],
   "source": [
    "x_train.shape"
   ]
  },
  {
   "cell_type": "code",
   "execution_count": 8,
   "metadata": {},
   "outputs": [],
   "source": [
    "model.add(Flatten(input_shape = x_train.shape[1:]))\n",
    "model.add(Dense(256,activation= \"relu\"))\n",
    "model.add(Dropout(0.5))\n",
    "model.add(Dense(1,activation=\"sigmoid\"))\n"
   ]
  },
  {
   "cell_type": "code",
   "execution_count": 9,
   "metadata": {},
   "outputs": [],
   "source": [
    "#Compile the model\n",
    "model.compile(\n",
    "loss = \"binary_crossentropy\",\n",
    "optimizer = \"adam\",\n",
    "metrics=['accuracy']\n",
    ")"
   ]
  },
  {
   "cell_type": "code",
   "execution_count": null,
   "metadata": {},
   "outputs": [],
   "source": []
  },
  {
   "cell_type": "code",
   "execution_count": 11,
   "metadata": {},
   "outputs": [
    {
     "name": "stdout",
     "output_type": "stream",
     "text": [
      "Train on 1376 samples\n",
      "Epoch 1/30\n",
      "1376/1376 [==============================] - 1s 621us/sample - loss: 0.2318 - accuracy: 0.9935\n",
      "Epoch 2/30\n",
      "1376/1376 [==============================] - 0s 143us/sample - loss: 0.0940 - accuracy: 0.9935\n",
      "Epoch 3/30\n",
      "1376/1376 [==============================] - 0s 149us/sample - loss: 0.1765 - accuracy: 0.9906\n",
      "Epoch 4/30\n",
      "1376/1376 [==============================] - 0s 131us/sample - loss: 0.0737 - accuracy: 0.9927\n",
      "Epoch 5/30\n",
      "1376/1376 [==============================] - 0s 135us/sample - loss: 0.0739 - accuracy: 0.9978\n",
      "Epoch 6/30\n",
      "1376/1376 [==============================] - 0s 198us/sample - loss: 0.1163 - accuracy: 0.9964\n",
      "Epoch 7/30\n",
      "1376/1376 [==============================] - 0s 129us/sample - loss: 0.1032 - accuracy: 0.9935\n",
      "Epoch 8/30\n",
      "1376/1376 [==============================] - 0s 136us/sample - loss: 0.1414 - accuracy: 0.9949\n",
      "Epoch 9/30\n",
      "1376/1376 [==============================] - 0s 131us/sample - loss: 0.2003 - accuracy: 0.9891\n",
      "Epoch 10/30\n",
      "1376/1376 [==============================] - 0s 130us/sample - loss: 0.1551 - accuracy: 0.9927\n",
      "Epoch 11/30\n",
      "1376/1376 [==============================] - 0s 155us/sample - loss: 0.0427 - accuracy: 0.9956\n",
      "Epoch 12/30\n",
      "1376/1376 [==============================] - 0s 116us/sample - loss: 0.0534 - accuracy: 0.9956\n",
      "Epoch 13/30\n",
      "1376/1376 [==============================] - 0s 118us/sample - loss: 0.1691 - accuracy: 0.9964\n",
      "Epoch 14/30\n",
      "1376/1376 [==============================] - 0s 119us/sample - loss: 0.0472 - accuracy: 0.9978\n",
      "Epoch 15/30\n",
      "1376/1376 [==============================] - 0s 127us/sample - loss: 0.0879 - accuracy: 0.9956\n",
      "Epoch 16/30\n",
      "1376/1376 [==============================] - 0s 126us/sample - loss: 0.1035 - accuracy: 0.9971\n",
      "Epoch 17/30\n",
      "1376/1376 [==============================] - 0s 128us/sample - loss: 0.1739 - accuracy: 0.9964\n",
      "Epoch 18/30\n",
      "1376/1376 [==============================] - 0s 139us/sample - loss: 0.1415 - accuracy: 0.9964\n",
      "Epoch 19/30\n",
      "1376/1376 [==============================] - 0s 140us/sample - loss: 0.0826 - accuracy: 0.9971\n",
      "Epoch 20/30\n",
      "1376/1376 [==============================] - 0s 131us/sample - loss: 9.6690e-08 - accuracy: 1.0000\n",
      "Epoch 21/30\n",
      "1376/1376 [==============================] - 0s 131us/sample - loss: 0.0039 - accuracy: 0.9985\n",
      "Epoch 22/30\n",
      "1376/1376 [==============================] - 0s 154us/sample - loss: 0.0441 - accuracy: 0.9956\n",
      "Epoch 23/30\n",
      "1376/1376 [==============================] - 0s 156us/sample - loss: 0.0450 - accuracy: 0.9993\n",
      "Epoch 24/30\n",
      "1376/1376 [==============================] - 0s 125us/sample - loss: 0.0244 - accuracy: 0.9985\n",
      "Epoch 25/30\n",
      "1376/1376 [==============================] - 0s 130us/sample - loss: 0.0613 - accuracy: 0.9964\n",
      "Epoch 26/30\n",
      "1376/1376 [==============================] - 0s 137us/sample - loss: 0.0527 - accuracy: 0.9985\n",
      "Epoch 27/30\n",
      "1376/1376 [==============================] - 0s 140us/sample - loss: 0.0243 - accuracy: 0.9971\n",
      "Epoch 28/30\n",
      "1376/1376 [==============================] - 0s 163us/sample - loss: 0.0789 - accuracy: 0.9964\n",
      "Epoch 29/30\n",
      "1376/1376 [==============================] - 0s 129us/sample - loss: 0.0416 - accuracy: 0.9985\n",
      "Epoch 30/30\n",
      "1376/1376 [==============================] - 0s 131us/sample - loss: 0.0741 - accuracy: 0.9971\n"
     ]
    },
    {
     "data": {
      "text/plain": [
       "<tensorflow.python.keras.callbacks.History at 0x29c0b32ddc8>"
      ]
     },
     "execution_count": 11,
     "metadata": {},
     "output_type": "execute_result"
    }
   ],
   "source": [
    "model.fit(\n",
    "x_train,\n",
    "y_train,\n",
    "epochs = 30,\n",
    "shuffle=True\n",
    ")"
   ]
  },
  {
   "cell_type": "code",
   "execution_count": 13,
   "metadata": {},
   "outputs": [],
   "source": [
    "#Save Structure\n",
    "model_structure = model.to_json()\n",
    "f = Path(\"model_structure.json\")\n",
    "f.write_text(model_structure)\n",
    "#Save Weights\n",
    "model.save_weights(\"model_weights.h5\")\n"
   ]
  },
  {
   "cell_type": "code",
   "execution_count": null,
   "metadata": {},
   "outputs": [],
   "source": []
  }
 ],
 "metadata": {
  "kernelspec": {
   "display_name": "Python 3.7 (tensorflow)",
   "language": "python",
   "name": "tensorflow"
  },
  "language_info": {
   "codemirror_mode": {
    "name": "ipython",
    "version": 3
   },
   "file_extension": ".py",
   "mimetype": "text/x-python",
   "name": "python",
   "nbconvert_exporter": "python",
   "pygments_lexer": "ipython3",
   "version": "3.7.9"
  }
 },
 "nbformat": 4,
 "nbformat_minor": 4
}
